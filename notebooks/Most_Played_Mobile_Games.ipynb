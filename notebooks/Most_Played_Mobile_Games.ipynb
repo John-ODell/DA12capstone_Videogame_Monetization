{
 "cells": [
  {
   "cell_type": "markdown",
   "id": "78f241ed",
   "metadata": {},
   "source": [
    "##READ IN FROM DATA file_path = r'C:\\Users\\johnc\\Desktop\\DA12\\Python\\DA12capstone_Videogame_Monetization\\data\\your_file_name.csv' df = pd.read_csv(file_path)"
   ]
  },
  {
   "cell_type": "code",
   "execution_count": 1,
   "id": "7c6ec4d0",
   "metadata": {},
   "outputs": [],
   "source": [
    "import requests\n",
    "from bs4 import BeautifulSoup as BS\n",
    "import pandas as pd\n",
    "import html5lib\n",
    "import seaborn as sns\n",
    "import matplotlib.pyplot as plt\n",
    "import plotly.express as px"
   ]
  },
  {
   "cell_type": "code",
   "execution_count": 2,
   "id": "27ef093a",
   "metadata": {},
   "outputs": [],
   "source": [
    "file_path = r'C:\\Users\\johnc\\Desktop\\DA12\\Python\\DA12capstone_Videogame_Monetization\\data\\most_played_mobile_games_raw.csv'\n",
    "most_played_mobile_games_raw = pd.read_csv(file_path)"
   ]
  },
  {
   "cell_type": "code",
   "execution_count": 3,
   "id": "3574af9e",
   "metadata": {},
   "outputs": [],
   "source": [
    "most_played_mobile_games = most_played_mobile_games_raw"
   ]
  },
  {
   "cell_type": "code",
   "execution_count": 5,
   "id": "d0c25d57",
   "metadata": {},
   "outputs": [],
   "source": [
    "most_played_mobile_games.columns=['Game_Name','drop','Date_Recorded','Buisness_Model','Release_Date','Publisher','dropthistoo']"
   ]
  },
  {
   "cell_type": "code",
   "execution_count": 18,
   "id": "eb1872ee",
   "metadata": {},
   "outputs": [],
   "source": [
    "most_played_mobile_games=most_played_mobile_games.drop(columns=['drop','dropthistoo'])"
   ]
  },
  {
   "cell_type": "code",
   "execution_count": 19,
   "id": "99366aa5",
   "metadata": {},
   "outputs": [
    {
     "data": {
      "text/plain": [
       "Buisness_Model\n",
       "Free-to-play         52\n",
       "Pay-to-play          15\n",
       "Subscription          5\n",
       "Subsciption           1\n",
       "Free-to-play[n 9]     1\n",
       "Name: count, dtype: int64"
      ]
     },
     "execution_count": 19,
     "metadata": {},
     "output_type": "execute_result"
    }
   ],
   "source": [
    "most_played_mobile_games.Buisness_Model.value_counts()"
   ]
  },
  {
   "cell_type": "code",
   "execution_count": 27,
   "id": "c8466cbe",
   "metadata": {},
   "outputs": [],
   "source": [
    "pay_to_play_dictonary = {'Pay-to-play Free-to-play':'Pay-to-play','Free-to-play Pay-to-play[n 3]':'Pay-to-play','Free-to-play Pay-to-play[n 5]':'Pay-to-play',}"
   ]
  },
  {
   "cell_type": "code",
   "execution_count": 28,
   "id": "adf6bfec",
   "metadata": {},
   "outputs": [],
   "source": [
    "subscription_dictionary = {'Subscription Free-to-play':'Subscription','Subscription Pay-to-play[n 6]':'Subscription','Subscription Free-to-play[n 8]':'Subsciption','Subscription[n 8]':'Subscription','Subsciption':'Subscription'}"
   ]
  },
  {
   "cell_type": "code",
   "execution_count": 29,
   "id": "ce0df9d5",
   "metadata": {},
   "outputs": [],
   "source": [
    "free_to_play_dictionary = {'Free-to-play[n 9]':'Free-to-play','Free-to-play[n 10]':'Free-to-play','Free-to-play[n 12]':'Free-to-play','Free-to-play[n 13]':'Free-to-play','Free-to-play[n 15]':'Free-to-play'}"
   ]
  },
  {
   "cell_type": "code",
   "execution_count": 30,
   "id": "b63587d6",
   "metadata": {},
   "outputs": [],
   "source": [
    "Buisness_Model_Dictionary = {**pay_to_play_dictonary,**subscription_dictionary,**free_to_play_dictionary}"
   ]
  },
  {
   "cell_type": "code",
   "execution_count": 31,
   "id": "d4706fa5",
   "metadata": {},
   "outputs": [],
   "source": [
    "most_played_mobile_games['Buisness_Model']=most_played_mobile_games['Buisness_Model'].replace(Buisness_Model_Dictionary)"
   ]
  },
  {
   "cell_type": "code",
   "execution_count": 32,
   "id": "84a2511f",
   "metadata": {},
   "outputs": [
    {
     "data": {
      "text/plain": [
       "Buisness_Model\n",
       "Free-to-play    53\n",
       "Pay-to-play     15\n",
       "Subscription     6\n",
       "Name: count, dtype: int64"
      ]
     },
     "execution_count": 32,
     "metadata": {},
     "output_type": "execute_result"
    }
   ],
   "source": [
    "most_played_mobile_games.Buisness_Model.value_counts()"
   ]
  },
  {
   "cell_type": "code",
   "execution_count": 34,
   "id": "310e1b30",
   "metadata": {},
   "outputs": [
    {
     "data": {
      "text/plain": [
       "Publisher\n",
       "EA Sports                     5\n",
       "Blizzard Entertainment        4\n",
       "NetEase                       3\n",
       "Electronic Arts               3\n",
       "Zynga                         3\n",
       "Nexon                         3\n",
       "Microsoft                     2\n",
       "KRG Soft                      2\n",
       "Riot Games                    2\n",
       "Valve                         2\n",
       "Epic Games                    2\n",
       "NCSoft                        1\n",
       "Gala Lab                      1\n",
       "Krafton / Tencent             1\n",
       "Uplift Games                  1\n",
       "Ankama                        1\n",
       "Psyonix                       1\n",
       "Beijing Perfect World         1\n",
       "Gamer Robot Inc               1\n",
       "Ubisoft                       1\n",
       "Digital Extremes              1\n",
       "Mind Candy                    1\n",
       "Bigpoint                      1\n",
       "Evony LLC                     1\n",
       "Kakao Games                   1\n",
       "Rare                          1\n",
       "SNK                           1\n",
       "Bluehole                      1\n",
       "Smartly Dressed Games         1\n",
       "CyberStep                     1\n",
       "Konami                        1\n",
       "5 Minutes                     1\n",
       "Gravity                       1\n",
       "Activision Blizzard           1\n",
       "Smilegate / Tencent           1\n",
       "Pokémon Company               1\n",
       "Nexon / Tencent               1\n",
       "Tencent / Garena              1\n",
       "Mojang / NetEase[n 3]         1\n",
       "King                          1\n",
       "Innersloth                    1\n",
       "Miniwan                       1\n",
       "Jagex                         1\n",
       "Roblox Corporation            1\n",
       "Disney Interactive Studios    1\n",
       "Various                       1\n",
       "WildWorks                     1\n",
       "Wargaming                     1\n",
       "Rockstar Games                1\n",
       "WeMade Entertainment          1\n",
       "Atelier 801                   1\n",
       "Namco                         1\n",
       "Zhengtu Network               1\n",
       "Capcom                        1\n",
       "Name: count, dtype: int64"
      ]
     },
     "execution_count": 34,
     "metadata": {},
     "output_type": "execute_result"
    }
   ],
   "source": [
    "most_played_mobile_games.Publisher.value_counts()"
   ]
  },
  {
   "cell_type": "code",
   "execution_count": 35,
   "id": "17301783",
   "metadata": {},
   "outputs": [
    {
     "data": {
      "text/html": [
       "<div>\n",
       "<style scoped>\n",
       "    .dataframe tbody tr th:only-of-type {\n",
       "        vertical-align: middle;\n",
       "    }\n",
       "\n",
       "    .dataframe tbody tr th {\n",
       "        vertical-align: top;\n",
       "    }\n",
       "\n",
       "    .dataframe thead th {\n",
       "        text-align: right;\n",
       "    }\n",
       "</style>\n",
       "<table border=\"1\" class=\"dataframe\">\n",
       "  <thead>\n",
       "    <tr style=\"text-align: right;\">\n",
       "      <th></th>\n",
       "      <th>Game_Name</th>\n",
       "      <th>Date_Recorded</th>\n",
       "      <th>Buisness_Model</th>\n",
       "      <th>Release_Date</th>\n",
       "      <th>Publisher</th>\n",
       "    </tr>\n",
       "  </thead>\n",
       "  <tbody>\n",
       "    <tr>\n",
       "      <th>0</th>\n",
       "      <td>PUBG</td>\n",
       "      <td>December 2022</td>\n",
       "      <td>Free-to-play</td>\n",
       "      <td>December 20, 2017</td>\n",
       "      <td>Krafton / Tencent</td>\n",
       "    </tr>\n",
       "    <tr>\n",
       "      <th>1</th>\n",
       "      <td>Pac-Man</td>\n",
       "      <td>1982</td>\n",
       "      <td>Pay-to-play</td>\n",
       "      <td>May 21, 1980</td>\n",
       "      <td>Namco</td>\n",
       "    </tr>\n",
       "    <tr>\n",
       "      <th>2</th>\n",
       "      <td>CrossFire</td>\n",
       "      <td>February 2020</td>\n",
       "      <td>Free-to-play</td>\n",
       "      <td>May 3, 2007</td>\n",
       "      <td>Smilegate / Tencent</td>\n",
       "    </tr>\n",
       "    <tr>\n",
       "      <th>3</th>\n",
       "      <td>Pokémon Go</td>\n",
       "      <td>February 2019</td>\n",
       "      <td>Free-to-play</td>\n",
       "      <td>December 13, 2016</td>\n",
       "      <td>Pokémon Company</td>\n",
       "    </tr>\n",
       "    <tr>\n",
       "      <th>4</th>\n",
       "      <td>Dungeon Fighter Online</td>\n",
       "      <td>December 2021</td>\n",
       "      <td>Free-to-play</td>\n",
       "      <td>August 2005</td>\n",
       "      <td>Nexon / Tencent</td>\n",
       "    </tr>\n",
       "    <tr>\n",
       "      <th>...</th>\n",
       "      <td>...</td>\n",
       "      <td>...</td>\n",
       "      <td>...</td>\n",
       "      <td>...</td>\n",
       "      <td>...</td>\n",
       "    </tr>\n",
       "    <tr>\n",
       "      <th>69</th>\n",
       "      <td>TERA</td>\n",
       "      <td>2018</td>\n",
       "      <td>Free-to-play</td>\n",
       "      <td>January 25, 2011</td>\n",
       "      <td>Bluehole</td>\n",
       "    </tr>\n",
       "    <tr>\n",
       "      <th>70</th>\n",
       "      <td>Unturned</td>\n",
       "      <td>July 2018</td>\n",
       "      <td>Free-to-play</td>\n",
       "      <td>July 7, 2017</td>\n",
       "      <td>Smartly Dressed Games</td>\n",
       "    </tr>\n",
       "    <tr>\n",
       "      <th>71</th>\n",
       "      <td>GetAmped</td>\n",
       "      <td>October 2008</td>\n",
       "      <td>Free-to-play</td>\n",
       "      <td>April 26, 2002</td>\n",
       "      <td>CyberStep</td>\n",
       "    </tr>\n",
       "    <tr>\n",
       "      <th>72</th>\n",
       "      <td>Overwatch 2</td>\n",
       "      <td>October 2022</td>\n",
       "      <td>Free-to-play</td>\n",
       "      <td>October 4, 2022</td>\n",
       "      <td>Blizzard Entertainment</td>\n",
       "    </tr>\n",
       "    <tr>\n",
       "      <th>73</th>\n",
       "      <td>Street Fighter II</td>\n",
       "      <td>1994</td>\n",
       "      <td>Pay-to-play</td>\n",
       "      <td>February 6, 1991</td>\n",
       "      <td>Capcom</td>\n",
       "    </tr>\n",
       "  </tbody>\n",
       "</table>\n",
       "<p>74 rows × 5 columns</p>\n",
       "</div>"
      ],
      "text/plain": [
       "                 Game_Name  Date_Recorded Buisness_Model       Release_Date  \\\n",
       "0                     PUBG  December 2022   Free-to-play  December 20, 2017   \n",
       "1                  Pac-Man           1982    Pay-to-play       May 21, 1980   \n",
       "2                CrossFire  February 2020   Free-to-play        May 3, 2007   \n",
       "3               Pokémon Go  February 2019   Free-to-play  December 13, 2016   \n",
       "4   Dungeon Fighter Online  December 2021   Free-to-play        August 2005   \n",
       "..                     ...            ...            ...                ...   \n",
       "69                    TERA           2018   Free-to-play   January 25, 2011   \n",
       "70                Unturned      July 2018   Free-to-play       July 7, 2017   \n",
       "71                GetAmped   October 2008   Free-to-play     April 26, 2002   \n",
       "72             Overwatch 2   October 2022   Free-to-play    October 4, 2022   \n",
       "73       Street Fighter II           1994    Pay-to-play   February 6, 1991   \n",
       "\n",
       "                 Publisher  \n",
       "0        Krafton / Tencent  \n",
       "1                    Namco  \n",
       "2      Smilegate / Tencent  \n",
       "3          Pokémon Company  \n",
       "4          Nexon / Tencent  \n",
       "..                     ...  \n",
       "69                Bluehole  \n",
       "70   Smartly Dressed Games  \n",
       "71               CyberStep  \n",
       "72  Blizzard Entertainment  \n",
       "73                  Capcom  \n",
       "\n",
       "[74 rows x 5 columns]"
      ]
     },
     "execution_count": 35,
     "metadata": {},
     "output_type": "execute_result"
    }
   ],
   "source": [
    "most_played_mobile_games"
   ]
  },
  {
   "cell_type": "code",
   "execution_count": null,
   "id": "a3f6b718",
   "metadata": {},
   "outputs": [],
   "source": []
  }
 ],
 "metadata": {
  "kernelspec": {
   "display_name": "Python 3 (ipykernel)",
   "language": "python",
   "name": "python3"
  },
  "language_info": {
   "codemirror_mode": {
    "name": "ipython",
    "version": 3
   },
   "file_extension": ".py",
   "mimetype": "text/x-python",
   "name": "python",
   "nbconvert_exporter": "python",
   "pygments_lexer": "ipython3",
   "version": "3.11.5"
  }
 },
 "nbformat": 4,
 "nbformat_minor": 5
}
