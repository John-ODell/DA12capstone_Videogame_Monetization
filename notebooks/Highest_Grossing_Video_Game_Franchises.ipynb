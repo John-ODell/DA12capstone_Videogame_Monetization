{
 "cells": [
  {
   "cell_type": "markdown",
   "id": "bfbd9da5",
   "metadata": {},
   "source": [
    "##READ IN FROM DATA file_path = r'C:\\Users\\johnc\\Desktop\\DA12\\Python\\DA12capstone_Videogame_Monetization\\data\\your_file_name.csv' df = pd.read_csv(file_path)"
   ]
  },
  {
   "cell_type": "code",
   "execution_count": 1,
   "id": "90fa2197",
   "metadata": {},
   "outputs": [],
   "source": [
    "import requests\n",
    "from bs4 import BeautifulSoup as BS\n",
    "import pandas as pd\n",
    "import html5lib\n",
    "import seaborn as sns\n",
    "import matplotlib.pyplot as plt\n",
    "import plotly.express as px"
   ]
  },
  {
   "cell_type": "code",
   "execution_count": 2,
   "id": "7662623a",
   "metadata": {},
   "outputs": [],
   "source": [
    "file_path = r'C:\\Users\\johnc\\Desktop\\DA12\\Python\\DA12capstone_Videogame_Monetization\\data\\highest_grossing_franchises_raw.csv'\n",
    "highest_grossing_franchises_raw = pd.read_csv(file_path)"
   ]
  },
  {
   "cell_type": "code",
   "execution_count": 3,
   "id": "5fad4b8b",
   "metadata": {},
   "outputs": [],
   "source": [
    "highest_grossing_franchises = highest_grossing_franchises_raw"
   ]
  },
  {
   "cell_type": "code",
   "execution_count": 7,
   "id": "40078204",
   "metadata": {},
   "outputs": [],
   "source": [
    "highest_grossing_franchises.columns=['Franchise','Debut_Year','Total_Revenue','Date','drop','Franchise_Breakdown']"
   ]
  },
  {
   "cell_type": "code",
   "execution_count": 11,
   "id": "9cb63f9a",
   "metadata": {},
   "outputs": [],
   "source": [
    "highest_grossing_franchises=highest_grossing_franchises.drop(columns='drop')"
   ]
  },
  {
   "cell_type": "code",
   "execution_count": 14,
   "id": "4e1046d4",
   "metadata": {},
   "outputs": [],
   "source": [
    "highest_grossing_franchises=highest_grossing_franchises.drop(columns='Franchise_Breakdown')"
   ]
  },
  {
   "cell_type": "code",
   "execution_count": 24,
   "id": "fb44c83d",
   "metadata": {},
   "outputs": [
    {
     "data": {
      "text/html": [
       "<div>\n",
       "<style scoped>\n",
       "    .dataframe tbody tr th:only-of-type {\n",
       "        vertical-align: middle;\n",
       "    }\n",
       "\n",
       "    .dataframe tbody tr th {\n",
       "        vertical-align: top;\n",
       "    }\n",
       "\n",
       "    .dataframe thead th {\n",
       "        text-align: right;\n",
       "    }\n",
       "</style>\n",
       "<table border=\"1\" class=\"dataframe\">\n",
       "  <thead>\n",
       "    <tr style=\"text-align: right;\">\n",
       "      <th></th>\n",
       "      <th>Franchise</th>\n",
       "      <th>Debut_Year</th>\n",
       "      <th>Total_Revenue</th>\n",
       "      <th>Date</th>\n",
       "    </tr>\n",
       "  </thead>\n",
       "  <tbody>\n",
       "    <tr>\n",
       "      <th>0</th>\n",
       "      <td>Pokémon</td>\n",
       "      <td>1996</td>\n",
       "      <td>$150 billion</td>\n",
       "      <td>2023</td>\n",
       "    </tr>\n",
       "    <tr>\n",
       "      <th>1</th>\n",
       "      <td>Mario</td>\n",
       "      <td>1981</td>\n",
       "      <td>$55 billion</td>\n",
       "      <td>2023</td>\n",
       "    </tr>\n",
       "    <tr>\n",
       "      <th>2</th>\n",
       "      <td>Call of Duty (COD)</td>\n",
       "      <td>2003</td>\n",
       "      <td>$27 billion</td>\n",
       "      <td>2021</td>\n",
       "    </tr>\n",
       "    <tr>\n",
       "      <th>3</th>\n",
       "      <td>Dungeon Fighter Online</td>\n",
       "      <td>2005</td>\n",
       "      <td>$22 billion</td>\n",
       "      <td>2023</td>\n",
       "    </tr>\n",
       "    <tr>\n",
       "      <th>4</th>\n",
       "      <td>Final Fantasy</td>\n",
       "      <td>1987</td>\n",
       "      <td>$20.116 billion</td>\n",
       "      <td>2023</td>\n",
       "    </tr>\n",
       "    <tr>\n",
       "      <th>...</th>\n",
       "      <td>...</td>\n",
       "      <td>...</td>\n",
       "      <td>...</td>\n",
       "      <td>...</td>\n",
       "    </tr>\n",
       "    <tr>\n",
       "      <th>93</th>\n",
       "      <td>Farm Heroes</td>\n",
       "      <td>2013</td>\n",
       "      <td>$1 billion</td>\n",
       "      <td>2017</td>\n",
       "    </tr>\n",
       "    <tr>\n",
       "      <th>94</th>\n",
       "      <td>The Last of Us</td>\n",
       "      <td>2013</td>\n",
       "      <td>$1 billion</td>\n",
       "      <td>2020</td>\n",
       "    </tr>\n",
       "    <tr>\n",
       "      <th>95</th>\n",
       "      <td>Destiny</td>\n",
       "      <td>2014</td>\n",
       "      <td>$1 billion</td>\n",
       "      <td>2017</td>\n",
       "    </tr>\n",
       "    <tr>\n",
       "      <th>96</th>\n",
       "      <td>Heroes of the Storm</td>\n",
       "      <td>2015</td>\n",
       "      <td>$1 billion</td>\n",
       "      <td>2017</td>\n",
       "    </tr>\n",
       "    <tr>\n",
       "      <th>97</th>\n",
       "      <td>Garena Free Fire</td>\n",
       "      <td>2017</td>\n",
       "      <td>$1 billion</td>\n",
       "      <td>2019</td>\n",
       "    </tr>\n",
       "  </tbody>\n",
       "</table>\n",
       "<p>98 rows × 4 columns</p>\n",
       "</div>"
      ],
      "text/plain": [
       "                 Franchise Debut_Year    Total_Revenue  Date\n",
       "0                  Pokémon       1996     $150 billion  2023\n",
       "1                    Mario       1981      $55 billion  2023\n",
       "2       Call of Duty (COD)       2003      $27 billion  2021\n",
       "3   Dungeon Fighter Online       2005      $22 billion  2023\n",
       "4            Final Fantasy       1987  $20.116 billion  2023\n",
       "..                     ...        ...              ...   ...\n",
       "93             Farm Heroes       2013       $1 billion  2017\n",
       "94          The Last of Us       2013       $1 billion  2020\n",
       "95                 Destiny       2014       $1 billion  2017\n",
       "96     Heroes of the Storm       2015       $1 billion  2017\n",
       "97        Garena Free Fire       2017       $1 billion  2019\n",
       "\n",
       "[98 rows x 4 columns]"
      ]
     },
     "execution_count": 24,
     "metadata": {},
     "output_type": "execute_result"
    }
   ],
   "source": [
    "highest_grossing_franchises"
   ]
  },
  {
   "cell_type": "code",
   "execution_count": null,
   "id": "08ffd045",
   "metadata": {},
   "outputs": [],
   "source": []
  }
 ],
 "metadata": {
  "kernelspec": {
   "display_name": "Python 3 (ipykernel)",
   "language": "python",
   "name": "python3"
  },
  "language_info": {
   "codemirror_mode": {
    "name": "ipython",
    "version": 3
   },
   "file_extension": ".py",
   "mimetype": "text/x-python",
   "name": "python",
   "nbconvert_exporter": "python",
   "pygments_lexer": "ipython3",
   "version": "3.11.5"
  }
 },
 "nbformat": 4,
 "nbformat_minor": 5
}
